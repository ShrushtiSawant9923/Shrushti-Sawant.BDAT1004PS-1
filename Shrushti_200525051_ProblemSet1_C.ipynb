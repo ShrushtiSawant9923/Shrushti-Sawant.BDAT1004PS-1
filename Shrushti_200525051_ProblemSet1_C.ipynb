{
 "cells": [
  {
   "cell_type": "markdown",
   "id": "98fa5365",
   "metadata": {},
   "source": [
    "Q1} What is the data type of each following?\n"
   ]
  },
  {
   "cell_type": "code",
   "execution_count": 48,
   "id": "291c7e64",
   "metadata": {},
   "outputs": [
    {
     "name": "stdout",
     "output_type": "stream",
     "text": [
      "System.Double\r\n"
     ]
    }
   ],
   "source": [
    " a = 5;\n",
    "Console.WriteLine(a.GetType());"
   ]
  },
  {
   "cell_type": "code",
   "execution_count": 2,
   "id": "02693e8b",
   "metadata": {},
   "outputs": [
    {
     "name": "stdout",
     "output_type": "stream",
     "text": [
      "System.Double\r\n"
     ]
    }
   ],
   "source": [
    " a = 5.0;\n",
    "Console.WriteLine(a.GetType());"
   ]
  },
  {
   "cell_type": "code",
   "execution_count": 50,
   "id": "7c3ada16",
   "metadata": {},
   "outputs": [
    {
     "name": "stdout",
     "output_type": "stream",
     "text": [
      "System.Boolean\r\n"
     ]
    }
   ],
   "source": [
    " dynamic a = 5>1;\n",
    "Console.WriteLine(a.GetType());"
   ]
  },
  {
   "cell_type": "code",
   "execution_count": 51,
   "id": "600c2949",
   "metadata": {},
   "outputs": [
    {
     "name": "stdout",
     "output_type": "stream",
     "text": [
      "System.Char\r\n"
     ]
    }
   ],
   "source": [
    " a = '5';\n",
    "Console.WriteLine(a.GetType());"
   ]
  },
  {
   "cell_type": "code",
   "execution_count": 52,
   "id": "dfa45354",
   "metadata": {},
   "outputs": [
    {
     "name": "stdout",
     "output_type": "stream",
     "text": [
      "System.Int32\r\n"
     ]
    }
   ],
   "source": [
    " a = 5 * 2;\n",
    "Console.WriteLine(a.GetType());"
   ]
  },
  {
   "cell_type": "code",
   "execution_count": 53,
   "id": "2c42bc4d",
   "metadata": {},
   "outputs": [
    {
     "name": "stdout",
     "output_type": "stream",
     "text": [
      "System.Int32\r\n"
     ]
    }
   ],
   "source": [
    " a = '5' * 2;\n",
    "Console.WriteLine(a.GetType());"
   ]
  },
  {
   "cell_type": "code",
   "execution_count": 54,
   "id": "a9c3fb21",
   "metadata": {},
   "outputs": [
    {
     "name": "stdout",
     "output_type": "stream",
     "text": [
      "System.Int32\r\n"
     ]
    }
   ],
   "source": [
    " a = 5 / 2;\n",
    "Console.WriteLine(a.GetType());"
   ]
  },
  {
   "cell_type": "code",
   "execution_count": 55,
   "id": "4d0c38d7",
   "metadata": {},
   "outputs": [
    {
     "name": "stdout",
     "output_type": "stream",
     "text": [
      "System.Int32\r\n"
     ]
    }
   ],
   "source": [
    " a = 5 % 2;\n",
    "Console.WriteLine(a.GetType());"
   ]
  },
  {
   "cell_type": "code",
   "execution_count": null,
   "id": "452f7b79",
   "metadata": {},
   "outputs": [],
   "source": []
  },
  {
   "cell_type": "code",
   "execution_count": 59,
   "id": "e3fc9236",
   "metadata": {},
   "outputs": [
    {
     "name": "stderr",
     "output_type": "stream",
     "text": [
      "\r\n",
      "(1,5): error CS1519: Invalid token '=' in class, record, struct, or interface member declaration\r\n",
      "\r\n",
      "(1,5): error CS1525: Invalid expression term '='\r\n",
      "\r\n",
      "(1,7): error CS1525: Invalid expression term '{'\r\n",
      "\r\n",
      "(1,7): error CS1002: ; expected\r\n",
      "\r\n",
      "(1,9): error CS1002: ; expected\r\n",
      "\r\n",
      "(1,9): error CS1513: } expected\r\n",
      "\r\n",
      "(1,12): error CS1002: ; expected\r\n",
      "\r\n",
      "(1,12): error CS1513: } expected\r\n",
      "\r\n",
      "(1,15): error CS1002: ; expected\r\n",
      "\r\n"
     ]
    },
    {
     "ename": "Error",
     "evalue": "compilation error",
     "output_type": "error",
     "traceback": []
    }
   ],
   "source": [
    "a[] = {5, 2, 1};\n",
    "Console.WriteLine(a.GetType())"
   ]
  },
  {
   "cell_type": "code",
   "execution_count": 12,
   "id": "9c5708f2",
   "metadata": {},
   "outputs": [
    {
     "name": "stdout",
     "output_type": "stream",
     "text": [
      "System.Double\r\n"
     ]
    }
   ],
   "source": [
    "double a = 22/7;\n",
    "Console.WriteLine(a.GetType());"
   ]
  },
  {
   "cell_type": "markdown",
   "id": "ac0a9c85",
   "metadata": {},
   "source": [
    "Question 2 \n",
    "\n",
    "Write (and evaluate) C# expressions that answer these questions:\n",
    "\n",
    "a. How many letters are there in 'Supercalifragilisticexpialidocious'"
   ]
  },
  {
   "cell_type": "code",
   "execution_count": 14,
   "id": "b1d23b1f",
   "metadata": {},
   "outputs": [
    {
     "name": "stdout",
     "output_type": "stream",
     "text": [
      "length34\r\n"
     ]
    }
   ],
   "source": [
    "string str1 = \"Supercalifragilisticexpialidocious\";\n",
    "int length = str1.Length;\n",
    "Console.WriteLine(\"length\" +length);\n"
   ]
  },
  {
   "cell_type": "markdown",
   "id": "75fdc0c0",
   "metadata": {},
   "source": [
    "b. Does 'Supercalifragilisticexpialidocious' contain 'ice' as a substring? \n"
   ]
  },
  {
   "cell_type": "code",
   "execution_count": 15,
   "id": "89bffc4c",
   "metadata": {},
   "outputs": [
    {
     "name": "stdout",
     "output_type": "stream",
     "text": [
      "is ice present in stringTrue\r\n"
     ]
    }
   ],
   "source": [
    "string str2 = \"Supercalifragilisticexpialidocious\";\n",
    "string value = \"ice\";\n",
    "Boolean result = str2.Contains(value);\n",
    "Console.WriteLine($\"is ice present in string\" +result);\n"
   ]
  },
  {
   "cell_type": "markdown",
   "id": "65b1fc94",
   "metadata": {},
   "source": [
    "c. Which of the following words is the longest: \n",
    "Supercalifragilisticexpialidocious, Honorificabilitudinitatibus, or \n",
    "Bababadalgharaghtakamminarronnkonn? "
   ]
  },
  {
   "cell_type": "code",
   "execution_count": 28,
   "id": "7244b51b",
   "metadata": {},
   "outputs": [
    {
     "name": "stdout",
     "output_type": "stream",
     "text": [
      "Lengthiest word is 2 \n",
      "Supercalifragilisticexpialidocious\n",
      "Bababadalgharaghtakamminarronnkonn\n"
     ]
    }
   ],
   "source": [
    "string[] List1 = {                      \n",
    "                   \"Supercalifragilisticexpialidocious\",\n",
    "                   \"Honorificabilitudinitatibus\",\n",
    "                   \"Bababadalgharaghtakamminarronnkonn\"\n",
    "                 };\n",
    "                 \n",
    "string word = \"\";\n",
    "int WordLength = 0;\n",
    "List < string > longerWords = new List < string > ();\n",
    "String[] str;\n",
    "foreach(string s in List1)\n",
    "{\n",
    "    if (s.Length >= WordLength)              \n",
    "    {\n",
    "        word = s;\n",
    "        WordLength = s.Length;\n",
    "        longerWords.Add(word);              \n",
    "        //str = longerWords.ToArray();\n",
    "    }\n",
    "}\n",
    "Console.WriteLine($\"Lengthiest word is {longerWords.Count} \"); \n",
    "\n",
    "foreach(string s in longerWords)    \n",
    "{       \n",
    "    Console.WriteLine(s);\n",
    "}"
   ]
  },
  {
   "cell_type": "markdown",
   "id": "0132fc9d",
   "metadata": {},
   "source": [
    "d. Which composer comes first in the dictionary: 'Berlioz', 'Borodin', 'Brian', \n",
    "'Bartok', 'Bellini', 'Buxtehude', 'Bernstein'. Which one comes last?\n"
   ]
  },
  {
   "cell_type": "code",
   "execution_count": 29,
   "id": "6e95ce8c",
   "metadata": {},
   "outputs": [
    {
     "name": "stdout",
     "output_type": "stream",
     "text": [
      "Sorted by Composer Name\n",
      "Key: Bartok, Value: 4\n",
      "Key: Bellini, Value: 5\n",
      "Key: Berlioz, Value: 1\n",
      "Key: Bernsteinl, Value: 7\n",
      "Key: Borodin, Value: 2\n",
      "Key: Brian, Value: 3\n",
      "Key: Buxtehude, Value: 6\n",
      "\n",
      "First Composer : Bartok,\n",
      "Last Composer : Buxtehude\n",
      "\n",
      "First Composer : [Bartok, 4],\n",
      "Last Composer : [Buxtehude, 6]\n",
      "\n",
      "By Second Method using sorted set\n",
      "\n",
      "First Composer : Bartok,\n",
      "Last Composer : Buxtehude\n"
     ]
    }
   ],
   "source": [
    "Dictionary < string, Int16 > ComposerList = new Dictionary < string, Int16 > ();  \n",
    " ComposerList.Add(\"Berlioz\", 1);\n",
    " ComposerList.Add(\"Borodin\", 2);\n",
    " ComposerList.Add(\"Brian\", 3);\n",
    " ComposerList.Add(\"Bartok\", 4);\n",
    " ComposerList.Add(\"Bellini\", 5);\n",
    " ComposerList.Add(\"Buxtehude\", 6);\n",
    " ComposerList.Add(\"Bernsteinl\", 7);\n",
    "\n",
    " Dictionary < string, Int16 > SortedComposerList = new Dictionary < string, Int16 > ();   \n",
    " List < string > SortedComposers = new List < string > ();\n",
    " Console.WriteLine(\"Sorted by Composer Name\");\n",
    " foreach(KeyValuePair < string, Int16 > author in ComposerList.OrderBy(key => key.Key)) \n",
    " { \n",
    "     Console.WriteLine(\"Key: {0}, Value: {1}\", author.Key, author.Value);\n",
    "     SortedComposerList.Add(author.Key, author.Value);\n",
    "     SortedComposers.Add(author.Key);\n",
    " }\n",
    " Console.WriteLine(\"\\nFirst Composer : {0},\\nLast Composer : {1}\", SortedComposers.First(), SortedComposers.Last()); \n",
    " Console.WriteLine(\"\\nFirst Composer : {0},\\nLast Composer : {1}\", SortedComposerList.First(), SortedComposerList.Last());\n",
    " \n",
    "Console.WriteLine($\"\\nBy Second Method using sorted set\");\n",
    "\n",
    "SortedSet<string> composerList = new SortedSet<string>();\n",
    "composerList.Add(\"Berlioz\");\n",
    "composerList.Add(\"Borodin\");\n",
    "composerList.Add(\"Brian\");\n",
    "composerList.Add(\"Bartok\");\n",
    "composerList.Add(\"Bellini\");\n",
    "composerList.Add(\"Buxtehude\");\n",
    "composerList.Add(\"Bernsteinl\");\n",
    "\n",
    "  foreach(var val in composerList)\n",
    "        {\n",
    "           // Console.WriteLine(val);\n",
    "        }\n",
    "\n",
    "Console.WriteLine(\"\\nFirst Composer : {0},\\nLast Composer : {1}\", composerList.First(), composerList.Last());"
   ]
  },
  {
   "cell_type": "markdown",
   "id": "1ff45345",
   "metadata": {},
   "source": [
    "Question 3 C#\n",
    "Implement function triangleArea(a,b,c) that takes as input the lengths of the 3\n",
    "sides of a triangle and returns the area of the triangle. By Heron's formula, the area \n",
    "of a triangle with side lengths a, b, and c is\n",
    "s(s - a)(s -b)(s -c)\n",
    ", where \n",
    "s = (a+b+c)/2. \n",
    ">>> triangleArea(2,2,2)\n",
    "1.7320508075688772\n"
   ]
  },
  {
   "cell_type": "code",
   "execution_count": 62,
   "id": "15bf523f",
   "metadata": {},
   "outputs": [
    {
     "name": "stdout",
     "output_type": "stream",
     "text": [
      "Enter the length of side 1:Enter the length of side 2:Enter the length of side 3:Area of a Triangle = 0"
     ]
    }
   ],
   "source": [
    "static double trianglearea(double a, double b, double c)\n",
    "    \n",
    "{\n",
    "   double s = (a + b + c) / 2;\n",
    "  double Area = Math.Sqrt(s * (s - a) * (s - b) * (s - c));\n",
    "  return Area;\n",
    "}\n",
    "Console.Write(\"Enter the length of side 1:\");\n",
    "double a = Convert.ToDouble(Console.ReadLine());\n",
    "Console.Write(\"Enter the length of side 2:\");\n",
    "double b = Convert.ToDouble(Console.ReadLine());\n",
    "\n",
    "\n",
    "\n",
    "Console.Write(\"Enter the length of side 3:\");\n",
    "double c = Convert.ToDouble(Console.ReadLine());\n",
    "Console.Write(\"Area of a Triangle = \" +trianglearea(a, b, c));"
   ]
  },
  {
   "cell_type": "markdown",
   "id": "d4ef0739",
   "metadata": {},
   "source": []
  },
  {
   "cell_type": "markdown",
   "id": "5d3bf591",
   "metadata": {},
   "source": [
    "Question 4 C#\n",
    "Write a program in C# Sharp to separate odd and even integers in separate arrays. \n",
    "Go to the editor\n",
    "Test Data :\n",
    "Input the number of elements to be stored in the array :5\n",
    "Input 5 elements in the array :\n",
    "element - 0 : 25\n",
    "element - 1 : 47\n",
    "element - 2 : 42\n",
    "element - 3 : 56\n",
    "element - 4 : 32\n",
    "Expected Output:\n",
    "The Even elements are:\n",
    "42 56 32\n",
    "The Odd elements are :\n",
    "25 47\n",
    "\n",
    "        "
   ]
  },
  {
   "cell_type": "code",
   "execution_count": 64,
   "id": "5cf28658",
   "metadata": {},
   "outputs": [
    {
     "name": "stdout",
     "output_type": "stream",
     "text": [
      "\n",
      "\n",
      "Separate odd and even integers in separate arrays:\n",
      "Enter number of elements to be stored in the array :Input 0 elements in the array :\n",
      "\n",
      "The Even elements are : \n",
      "\n",
      "The Odd elements are :\n"
     ]
    }
   ],
   "source": [
    "int[] arr1 = new int[10];\n",
    "int[] arr2 = new int[10];\n",
    "int[] arr3 = new int[10];\n",
    "int i, j = 0, k = 0, n;\n",
    "Console.Write(\"\\n\\nSeparate odd and even integers in separate arrays:\\n\");\n",
    "Console.Write(\"Enter number of elements to be stored in the array :\");\n",
    "n = Convert.ToInt32(Console.ReadLine());\n",
    "\n",
    "Console.Write(\"Input {0} elements in the array :\\n\", n);\n",
    "for (i = 0; i < n; i++)\n",
    "{\n",
    "    Console.Write(\"element - {0} : \", i);\n",
    "    arr1[i] = Convert.ToInt32(Console.ReadLine());\n",
    "}\n",
    "for (i = 0; i < n; i++)\n",
    "{\n",
    "    if (arr1[i] % 2 == 0)\n",
    "    {\n",
    "        arr2[j] = arr1[i];\n",
    "        j++;\n",
    "    }\n",
    "    else\n",
    "    {\n",
    "        arr3[k] = arr1[i];\n",
    "        k++;\n",
    "    }\n",
    "}\n",
    "\n",
    "Console.Write(\"\\nThe Even elements are : \\n\");\n",
    "for (i = 0; i < j; i++)\n",
    "{\n",
    "    Console.Write(\"{0} \", arr2[i]);\n",
    "}\n",
    "\n",
    "Console.Write(\"\\nThe Odd elements are :\\n\");\n",
    "for (i = 0; i < k; i++)\n",
    "{\n",
    "    Console.Write(\"{0} \", arr3[i]);\n",
    "}"
   ]
  },
  {
   "cell_type": "markdown",
   "id": "eb041335",
   "metadata": {},
   "source": [
    "Question 5\n",
    "a. Write a function inside(x,y,x1,y1,x2,y2) that returns True or False depending on whether the point (x,y) lies in the rectangle with lower left corner (x1,y1) and upper right corner (x2,y2).\n",
    "\n",
    "inside(1,1,0,0,2,3) True inside(-1,-1,0,0,2,3) False\n",
    "\n",
    "b. Use function inside() from part a. to write an expression that tests whether the point (1,1) lies in both of the following rectangles: one with lower left corner (0.3, 0.5) and upper right corner (1.1, 0.7) and the other with lower left corner (0.5, 0.2) and upper right corner (1.1, 2)."
   ]
  },
  {
   "cell_type": "code",
   "execution_count": 45,
   "id": "66e550db",
   "metadata": {},
   "outputs": [
    {
     "name": "stdout",
     "output_type": "stream",
     "text": [
      "inside(1,1,0,0,2,3):True\n",
      "inside(-1,-1,0,0,2,3):False\n",
      "\n",
      "The point (1,1) doesn't lie in both of the following rectangles\n",
      "\n",
      "inside(1,1,0.3,0.5,1.1,0.7):False\n",
      "inside(1,1,0.5,0.2,1.1,2):True\n"
     ]
    }
   ],
   "source": [
    "public static bool inside(double x, double y, double x1, double y1, double x2, double y2)\n",
    "{   \n",
    "\n",
    "    if (x > x1 && x < x2 &&\n",
    "        y > y1 && y < y2)\n",
    "        return true;\n",
    "\n",
    "    return false;\n",
    "}\n",
    "\n",
    "Console.WriteLine($\"inside(1,1,0,0,2,3):{inside(1,1,0,0,2,3)}\");\n",
    "Console.WriteLine($\"inside(-1,-1,0,0,2,3):{inside(-1,-1,0,0,2,3)}\\n\");\n",
    "\n",
    "if(inside(1,1,0.3,0.5,1.1,0.7) && inside(1,1,0.5,0.2,1.1,2)){\n",
    "    Console.WriteLine(\"the point (1,1) lies in both of the following rectangles\");\n",
    "}\n",
    "else{\n",
    "    Console.WriteLine(\"The point (1,1) doesn't lie in both of the following rectangles\");\n",
    "}\n",
    "Console.WriteLine($\"\\ninside(1,1,0.3,0.5,1.1,0.7):{inside(1,1,0.3,0.5,1.1,0.7)}\");\n",
    "Console.WriteLine($\"inside(1,1,0.5,0.2,1.1,2):{inside(1,1,0.5,0.2,1.1,2)}\");"
   ]
  },
  {
   "cell_type": "code",
   "execution_count": null,
   "id": "45f21d23",
   "metadata": {},
   "outputs": [],
   "source": []
  },
  {
   "cell_type": "code",
   "execution_count": null,
   "id": "7645755a",
   "metadata": {},
   "outputs": [],
   "source": []
  }
 ],
 "metadata": {
  "kernelspec": {
   "display_name": ".NET (C#)",
   "language": "C#",
   "name": ".net-csharp"
  },
  "language_info": {
   "file_extension": ".cs",
   "mimetype": "text/x-csharp",
   "name": "C#",
   "pygments_lexer": "csharp",
   "version": "10.0"
  }
 },
 "nbformat": 4,
 "nbformat_minor": 5
}
