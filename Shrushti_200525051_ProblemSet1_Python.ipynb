{
 "cells": [
  {
   "cell_type": "markdown",
   "id": "3dbf8091",
   "metadata": {},
   "source": [
    "Question 6 You can turn a word into pig-Latin using the following two rules (simplified): • If the word starts with a consonant, move that letter to the end and append 'ay'. For example, 'happy' becomes 'appyhay' and 'pencil' becomes 'encilpay'. • If the word starts with a vowel, simply append 'way' to the end of the word. For example, 'enter' becomes 'enterway' and 'other' becomes 'otherway' . For our purposes, there are 5 vowels: a, e, i, o, u (so we count y as a consonant). Write a function pig() that takes a word (i.e., a string) as input and returns its pigLatin form. Your function should still work if the input word contains upper case characters. Your output should always be lower case however.\n",
    "\n",
    "pig('happy') 'appyhay' pig('Enter') 'enterway'\n"
   ]
  },
  {
   "cell_type": "code",
   "execution_count": 2,
   "id": "34142d9a",
   "metadata": {},
   "outputs": [
    {
     "name": "stdout",
     "output_type": "stream",
     "text": [
      "appyhay\n"
     ]
    }
   ],
   "source": [
    "vowels=('a','e','i','o','u') \n",
    "def pig(word):\n",
    "    if(word[0].lower() in vowels):   \n",
    "        print(word.lower()+'way')\n",
    "    else:\n",
    "        print(word[1:].lower()+word[0].lower()+'ay') \n",
    "pig('happy')"
   ]
  },
  {
   "cell_type": "code",
   "execution_count": 3,
   "id": "57da3600",
   "metadata": {},
   "outputs": [
    {
     "name": "stdout",
     "output_type": "stream",
     "text": [
      "enterway\n"
     ]
    }
   ],
   "source": [
    "vowels=('a','e','i','o','u') \n",
    "def pig(word):\n",
    "    if(word[0].lower() in vowels):  \n",
    "        print(word.lower()+'way')\n",
    "    else:\n",
    "        print(word[1:].lower()+word[0].lower()+'ay') \n",
    "pig('Enter')"
   ]
  },
  {
   "cell_type": "markdown",
   "id": "2bf581ca",
   "metadata": {},
   "source": [
    "Question 7 Python File bloodtype1.txt records blood-types of patients (A, B, AB, O or OO) at a clinic. Write a function bldcount() that reads the file with name name and reports (i.e., prints) how many patients there are in each bloodtype.\n",
    "\n",
    "bldcount('bloodtype.txt') There are 10 patients of blood type A. There is one patient of blood type B. There are 10 patients of blood type AB. There are 12 patients of blood type O. There are no patients of blood type OO."
   ]
  },
  {
   "cell_type": "code",
   "execution_count": 4,
   "id": "53f50c1e",
   "metadata": {},
   "outputs": [
    {
     "name": "stdout",
     "output_type": "stream",
     "text": [
      "there are 15  patients of A bloodtype.\n",
      "there are 1  patients of B bloodtype.\n",
      "there are 13  patients of AB bloodtype.\n",
      "there are 15  patients of O bloodtype.\n",
      "there are 0  patients of OO bloodtype.\n"
     ]
    }
   ],
   "source": [
    "def bloodcount(bloodtype1):\n",
    "    d = open(bloodtype1,'r')\n",
    "    word = d.readline()\n",
    "    lst = []\n",
    "    blood_types = ['A','B','AB','O','OO']\n",
    "    lst.append(word.split(\" \"))\n",
    "    \n",
    "    for blood_type in blood_types:\n",
    "        print(\"there are\",lst[0].count(blood_type),\" patients of\",blood_type, \"bloodtype.\")\n",
    "bloodcount('bloodtype1.txt')"
   ]
  },
  {
   "cell_type": "markdown",
   "id": "e27bd3db",
   "metadata": {},
   "source": [
    "Question 8 Python\n",
    "Write a function curconv() that takes as input:\n",
    "1. a currency represented using a string (e.g., 'JPY' for the Japanese Yen or \n",
    "'EUR' for the Euro)\n",
    "2. an amount\n",
    "and then converts and returns the amount in US dollars.\n"
   ]
  },
  {
   "cell_type": "code",
   "execution_count": 7,
   "id": "015d6a68",
   "metadata": {},
   "outputs": [
    {
     "name": "stdout",
     "output_type": "stream",
     "text": [
      "122.96544\n",
      "1.2414\n"
     ]
    }
   ],
   "source": [
    "def curconv(currency,amount):\n",
    "    file1 = open('currencies.txt', 'r')\n",
    "    Lines = file1.readlines()\n",
    "\n",
    "    for line in Lines:\n",
    "        if line[0:3]==currency:\n",
    "            rate = float(line[4:13])\n",
    "            total_amount = amount * rate\n",
    "            print(total_amount)\n",
    "            break\n",
    "            \n",
    "curconv('EUR',100)\n",
    "curconv('JPY',100)"
   ]
  },
  {
   "cell_type": "markdown",
   "id": "4b8e80f9",
   "metadata": {},
   "source": [
    "Question 9 Python\n",
    "Each of the following will cause an exception (an error). Identify what type of \n",
    "exception each will cause.\n",
    "Trying to add incompatible variables, as in \n",
    "adding 6 + ‘a’\n",
    "Referring to the 12th item of a list that has only 10 \n",
    "items\n",
    "Using a value that is out of range for a function’s \n",
    "input, such as calling math.sqrt(-1.0)\n",
    "Using an undeclared variable, such as print(x)\n",
    "when x has not been defined \n",
    "Trying to open a file that does not exist, such as \n",
    "mistyping the file name or looking in the wrong \n",
    "directory."
   ]
  },
  {
   "cell_type": "code",
   "execution_count": 8,
   "id": "8a7a242c",
   "metadata": {},
   "outputs": [
    {
     "ename": "TypeError",
     "evalue": "unsupported operand type(s) for +: 'int' and 'str'",
     "output_type": "error",
     "traceback": [
      "\u001b[1;31m---------------------------------------------------------------------------\u001b[0m",
      "\u001b[1;31mTypeError\u001b[0m                                 Traceback (most recent call last)",
      "Input \u001b[1;32mIn [8]\u001b[0m, in \u001b[0;36m<cell line: 1>\u001b[1;34m()\u001b[0m\n\u001b[1;32m----> 1\u001b[0m \u001b[38;5;241;43m6\u001b[39;49m\u001b[43m \u001b[49m\u001b[38;5;241;43m+\u001b[39;49m\u001b[43m \u001b[49m\u001b[38;5;124;43m'\u001b[39;49m\u001b[38;5;124;43ma\u001b[39;49m\u001b[38;5;124;43m'\u001b[39;49m\n",
      "\u001b[1;31mTypeError\u001b[0m: unsupported operand type(s) for +: 'int' and 'str'"
     ]
    }
   ],
   "source": [
    "6 + 'a'\n"
   ]
  },
  {
   "cell_type": "code",
   "execution_count": 9,
   "id": "515df001",
   "metadata": {},
   "outputs": [
    {
     "ename": "IndexError",
     "evalue": "list index out of range",
     "output_type": "error",
     "traceback": [
      "\u001b[1;31m---------------------------------------------------------------------------\u001b[0m",
      "\u001b[1;31mIndexError\u001b[0m                                Traceback (most recent call last)",
      "Input \u001b[1;32mIn [9]\u001b[0m, in \u001b[0;36m<cell line: 2>\u001b[1;34m()\u001b[0m\n\u001b[0;32m      1\u001b[0m \u001b[38;5;28mlist\u001b[39m \u001b[38;5;241m=\u001b[39m [\u001b[38;5;241m1\u001b[39m,\u001b[38;5;241m2\u001b[39m,\u001b[38;5;241m3\u001b[39m,\u001b[38;5;241m4\u001b[39m,\u001b[38;5;241m5\u001b[39m,\u001b[38;5;241m6\u001b[39m,\u001b[38;5;241m7\u001b[39m,\u001b[38;5;241m8\u001b[39m,\u001b[38;5;241m9\u001b[39m,\u001b[38;5;241m10\u001b[39m]\n\u001b[1;32m----> 2\u001b[0m \u001b[38;5;28mprint\u001b[39m(\u001b[38;5;28;43mlist\u001b[39;49m\u001b[43m[\u001b[49m\u001b[38;5;241;43m12\u001b[39;49m\u001b[43m]\u001b[49m)\n",
      "\u001b[1;31mIndexError\u001b[0m: list index out of range"
     ]
    }
   ],
   "source": [
    "list = [1,2,3,4,5,6,7,8,9,10]\n",
    "print(list[12])"
   ]
  },
  {
   "cell_type": "code",
   "execution_count": 10,
   "id": "b79696e0",
   "metadata": {},
   "outputs": [
    {
     "ename": "ValueError",
     "evalue": "math domain error",
     "output_type": "error",
     "traceback": [
      "\u001b[1;31m---------------------------------------------------------------------------\u001b[0m",
      "\u001b[1;31mValueError\u001b[0m                                Traceback (most recent call last)",
      "Input \u001b[1;32mIn [10]\u001b[0m, in \u001b[0;36m<cell line: 2>\u001b[1;34m()\u001b[0m\n\u001b[0;32m      1\u001b[0m \u001b[38;5;28;01mimport\u001b[39;00m \u001b[38;5;21;01mmath\u001b[39;00m\n\u001b[1;32m----> 2\u001b[0m \u001b[38;5;28mprint\u001b[39m(\u001b[43mmath\u001b[49m\u001b[38;5;241;43m.\u001b[39;49m\u001b[43msqrt\u001b[49m\u001b[43m(\u001b[49m\u001b[38;5;241;43m-\u001b[39;49m\u001b[38;5;241;43m1.0\u001b[39;49m\u001b[43m)\u001b[49m)\n",
      "\u001b[1;31mValueError\u001b[0m: math domain error"
     ]
    }
   ],
   "source": [
    "import math\n",
    "print(math.sqrt(-1.0))"
   ]
  },
  {
   "cell_type": "code",
   "execution_count": 11,
   "id": "c6647079",
   "metadata": {},
   "outputs": [
    {
     "ename": "NameError",
     "evalue": "name 'x' is not defined",
     "output_type": "error",
     "traceback": [
      "\u001b[1;31m---------------------------------------------------------------------------\u001b[0m",
      "\u001b[1;31mNameError\u001b[0m                                 Traceback (most recent call last)",
      "Input \u001b[1;32mIn [11]\u001b[0m, in \u001b[0;36m<cell line: 1>\u001b[1;34m()\u001b[0m\n\u001b[1;32m----> 1\u001b[0m \u001b[38;5;28mprint\u001b[39m(\u001b[43mx\u001b[49m)\n",
      "\u001b[1;31mNameError\u001b[0m: name 'x' is not defined"
     ]
    }
   ],
   "source": [
    "print(x)"
   ]
  },
  {
   "cell_type": "code",
   "execution_count": 12,
   "id": "bbdb2dcc",
   "metadata": {},
   "outputs": [
    {
     "ename": "FileNotFoundError",
     "evalue": "[Errno 2] No such file or directory: 'Ajaydangi.txt'",
     "output_type": "error",
     "traceback": [
      "\u001b[1;31m---------------------------------------------------------------------------\u001b[0m",
      "\u001b[1;31mFileNotFoundError\u001b[0m                         Traceback (most recent call last)",
      "Input \u001b[1;32mIn [12]\u001b[0m, in \u001b[0;36m<cell line: 1>\u001b[1;34m()\u001b[0m\n\u001b[1;32m----> 1\u001b[0m file \u001b[38;5;241m=\u001b[39m \u001b[38;5;28;43mopen\u001b[39;49m\u001b[43m(\u001b[49m\u001b[38;5;124;43m'\u001b[39;49m\u001b[38;5;124;43mAjaydangi.txt\u001b[39;49m\u001b[38;5;124;43m'\u001b[39;49m\u001b[43m,\u001b[49m\u001b[38;5;124;43m'\u001b[39;49m\u001b[38;5;124;43mr\u001b[39;49m\u001b[38;5;124;43m'\u001b[39;49m\u001b[43m)\u001b[49m\n\u001b[0;32m      2\u001b[0m \u001b[38;5;28mprint\u001b[39m(file\u001b[38;5;241m.\u001b[39mread())\n",
      "\u001b[1;31mFileNotFoundError\u001b[0m: [Errno 2] No such file or directory: 'Ajaydangi.txt'"
     ]
    }
   ],
   "source": [
    "file = open('Ajaydangi.txt','r')\n",
    "print(file.read())"
   ]
  },
  {
   "cell_type": "markdown",
   "id": "e1ed288c",
   "metadata": {},
   "source": [
    "Question 10 Python\n",
    "Encryption is the process of hiding the meaning of a text by substituting letters in the \n",
    "message with other letters, according to some system. If the process is successful, no \n",
    "one but the intended recipient can understand the encrypted message. Cryptanalysis\n",
    "refers to attempts to undo the encryption, even if some details of the encryption are \n",
    "unknown (for example, if an encrypted message has been intercepted). The first step \n",
    "of cryptanalysis is often to build up a table of letter frequencies in the encrypted text. \n",
    "Assume that the string letters is already defined as \n",
    "'abcdefghijklmnopqrstuvwxyz'. Write a function called frequencies()\n",
    "that takes a string as its only parameter, and returns a list of integers, showing the \n",
    "number of times each character appears in the text. Your function may ignore any \n",
    "characters that are not in letters. \n",
    ">>> frequencies('The quick red fox got bored and went home.')\n",
    "[1, 1, 1, 3, 5, 1, 1, 2, 1, 0, 1, 0, 1, 2, 4, 0, 1, 2, 0, 2, \n",
    "1, 0, 1, 1, 0, 0]\n",
    ">>> frequencies('apple'"
   ]
  },
  {
   "cell_type": "code",
   "execution_count": 16,
   "id": "ba063c0b",
   "metadata": {},
   "outputs": [
    {
     "name": "stdout",
     "output_type": "stream",
     "text": [
      "1,1,1,3,5,1,1,2,1,0,1,0,1,2,4,0,1,2,0,2,1,0,1,1,0,0,\n",
      "\n",
      "1,0,0,0,1,0,0,0,0,0,0,1,0,0,0,2,0,0,0,0,0,0,0,0,0,0,"
     ]
    }
   ],
   "source": [
    "def freq1(string):\n",
    "    letters=['a','b','c','d','e','f','g','h','i','j','k','l','m','n','o','p','q','r','s','t','u','v','w','x','y','z']\n",
    "    inputWord= string\n",
    "    Length_letters=len(letters)     \n",
    "    for i in range(0,Length_letters):      \n",
    "        data= inputWord.count(letters[i])  \n",
    "        letters1 = str(data)\n",
    "        print(letters1,end= \",\" )\n",
    "freq1('The quick red fox got bored and went home.')\n",
    "print(\"\\n\")\n",
    "freq1('apple')"
   ]
  },
  {
   "cell_type": "code",
   "execution_count": null,
   "id": "9f16cee3",
   "metadata": {},
   "outputs": [],
   "source": []
  }
 ],
 "metadata": {
  "kernelspec": {
   "display_name": "Python 3 (ipykernel)",
   "language": "python",
   "name": "python3"
  },
  "language_info": {
   "codemirror_mode": {
    "name": "ipython",
    "version": 3
   },
   "file_extension": ".py",
   "mimetype": "text/x-python",
   "name": "python",
   "nbconvert_exporter": "python",
   "pygments_lexer": "ipython3",
   "version": "3.9.12"
  }
 },
 "nbformat": 4,
 "nbformat_minor": 5
}
